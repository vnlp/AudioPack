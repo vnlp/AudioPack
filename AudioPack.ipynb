{
 "cells": [
  {
   "cell_type": "code",
   "execution_count": 1,
   "id": "36758fe5",
   "metadata": {},
   "outputs": [],
   "source": [
    "import matplotlib.pyplot as plt\n",
    "import numpy as np\n",
    "from scipy.fftpack import fft, ifft"
   ]
  },
  {
   "cell_type": "code",
   "execution_count": 4,
   "id": "c8654a01",
   "metadata": {},
   "outputs": [],
   "source": [
    "class AudioPack:\n",
    "    \n",
    "    def __init__(self):\n",
    "        self.data = None\n",
    "        self.fs = None\n",
    "        self.target_data = None\n",
    "    \n",
    "    def get_filted_data(self, data, f1, f2):\n",
    "        '''\n",
    "            @idea:\n",
    "                1.整体就考了0～20000的频率，一共20001个频点，因此用40002个采样点\n",
    "            @todo:\n",
    "                1.加入整体采样点不够的判断逻辑\n",
    "        '''\n",
    "        if len(data) != 40002:\n",
    "            print('数据长度不符合要求')\n",
    "            return None\n",
    "        yf = fft(data)\n",
    "        tmp = []\n",
    "        for i,x in enumerate(yf):\n",
    "            if  (i>f1 and i<f2) or (i>(40001-f2) and i<(40001-f1)):\n",
    "                tmp.append(x)\n",
    "            else:\n",
    "                tmp.append(0)\n",
    "        res = ifft(tmp)\n",
    "        return res\n",
    "    \n",
    "    def plot_freq(self, data):\n",
    "        yf = fft(data)\n",
    "        N = len(data)\n",
    "        n = N//2\n",
    "        x = np.linspace(0, n-1, n)\n",
    "        plt.plot(x, yf[:n]*2/N)\n",
    "        plt.grid()\n",
    "        plt.show()\n",
    "        return\n",
    "    \n",
    "    def filt_data(self, data, f1, f2):\n",
    "        '''\n",
    "            @idea:\n",
    "                截取f1到f2频段的音频\n",
    "        '''\n",
    "        return\n",
    "        \n",
    "    def read_file(self, filename):\n",
    "        data, fs = sf.read(filename)\n",
    "        self.data = data\n",
    "        self.fs = fs\n",
    "    \n",
    "    def to_file(self, target_filename, fs):\n",
    "        if not self.target_data:\n",
    "            print('目标数据为空')\n",
    "            return\n",
    "        else:\n",
    "            sf.write(target_filename, self.target_data, fs)\n",
    "            print('音频数据生成成功')\n",
    "            return"
   ]
  },
  {
   "cell_type": "code",
   "execution_count": null,
   "id": "1a0bd4fc",
   "metadata": {},
   "outputs": [],
   "source": []
  }
 ],
 "metadata": {
  "kernelspec": {
   "display_name": "Python 3",
   "language": "python",
   "name": "python3"
  },
  "language_info": {
   "codemirror_mode": {
    "name": "ipython",
    "version": 3
   },
   "file_extension": ".py",
   "mimetype": "text/x-python",
   "name": "python",
   "nbconvert_exporter": "python",
   "pygments_lexer": "ipython3",
   "version": "3.9.5"
  }
 },
 "nbformat": 4,
 "nbformat_minor": 5
}
